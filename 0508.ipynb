{
  "nbformat": 4,
  "nbformat_minor": 0,
  "metadata": {
    "colab": {
      "provenance": [],
      "authorship_tag": "ABX9TyN4o4FUBzEfhETpPCMg+K4n",
      "include_colab_link": true
    },
    "kernelspec": {
      "name": "python3",
      "display_name": "Python 3"
    },
    "language_info": {
      "name": "python"
    }
  },
  "cells": [
    {
      "cell_type": "markdown",
      "metadata": {
        "id": "view-in-github",
        "colab_type": "text"
      },
      "source": [
        "<a href=\"https://colab.research.google.com/github/tku-luyunhua/Introduction-to-Computers/blob/main/0508.ipynb\" target=\"_parent\"><img src=\"https://colab.research.google.com/assets/colab-badge.svg\" alt=\"Open In Colab\"/></a>"
      ]
    },
    {
      "cell_type": "code",
      "execution_count": 1,
      "metadata": {
        "colab": {
          "base_uri": "https://localhost:8080/"
        },
        "id": "hEkv66lAr6jF",
        "outputId": "099523c0-4b32-4961-d17e-091af8d2a49a"
      },
      "outputs": [
        {
          "output_type": "stream",
          "name": "stdout",
          "text": [
            "0508\n"
          ]
        }
      ],
      "source": [
        "print(\"0508\")"
      ]
    },
    {
      "cell_type": "code",
      "source": [
        "score = int(input('請輸入分數:'))\n",
        "if score >= 60: \n",
        "  print('及格')\n",
        "else: \n",
        "  print('不及格')"
      ],
      "metadata": {
        "colab": {
          "base_uri": "https://localhost:8080/"
        },
        "id": "tVD9pn1hs_ag",
        "outputId": "48338d46-0222-4056-9113-9c2a09eb4369"
      },
      "execution_count": 2,
      "outputs": [
        {
          "output_type": "stream",
          "name": "stdout",
          "text": [
            "請輸入分數:40\n",
            "不及格\n"
          ]
        }
      ]
    },
    {
      "cell_type": "code",
      "source": [
        "設定密碼 = int(input(\"請設定一個四位數密碼:\"))\n",
        "     "
      ],
      "metadata": {
        "colab": {
          "base_uri": "https://localhost:8080/"
        },
        "id": "FDtTY0w2tEdC",
        "outputId": "7488945a-7077-4ddd-d810-48a38f5ec43a"
      },
      "execution_count": 3,
      "outputs": [
        {
          "name": "stdout",
          "output_type": "stream",
          "text": [
            "請設定一個四位數密碼:1234\n"
          ]
        }
      ]
    },
    {
      "cell_type": "code",
      "source": [
        "通關密碼 = int(input(\"請輸入通密碼:\"))\n",
        "if (通關密碼 == 設定密碼):\n",
        "  print(\"歡迎光臨!\")"
      ],
      "metadata": {
        "colab": {
          "base_uri": "https://localhost:8080/"
        },
        "id": "B-x2N8zItKsA",
        "outputId": "2d783705-b377-4ef1-b9d8-5ff6a469e2c1"
      },
      "execution_count": 4,
      "outputs": [
        {
          "output_type": "stream",
          "name": "stdout",
          "text": [
            "請輸入通密碼:1234\n",
            "歡迎光臨!\n"
          ]
        }
      ]
    },
    {
      "cell_type": "code",
      "source": [
        "通關密碼 = int(input(\"請輸入通密碼:\"))\n",
        "if (通關密碼 == 設定密碼):\n",
        "  print(\"歡迎光臨!\")"
      ],
      "metadata": {
        "colab": {
          "base_uri": "https://localhost:8080/"
        },
        "id": "LYXySgrJtQPX",
        "outputId": "a7b00237-17a6-4a34-affe-19318dbc0abb"
      },
      "execution_count": 5,
      "outputs": [
        {
          "name": "stdout",
          "output_type": "stream",
          "text": [
            "請輸入通密碼:5555\n"
          ]
        }
      ]
    },
    {
      "cell_type": "code",
      "source": [
        "\n",
        "通關密碼 = int(input(\"請輸入通密碼:\"))\n",
        "if (通關密碼 == 設定密碼):\n",
        "  print(\"歡迎光臨!\")\n",
        "else :\n",
        "  print(\"密碼錯誤\")"
      ],
      "metadata": {
        "colab": {
          "base_uri": "https://localhost:8080/"
        },
        "id": "d3l9WaAbtari",
        "outputId": "be99f35f-d6a8-4d91-85f7-4b386e38cf8c"
      },
      "execution_count": 6,
      "outputs": [
        {
          "output_type": "stream",
          "name": "stdout",
          "text": [
            "請輸入通密碼:5555\n",
            "密碼錯誤\n"
          ]
        }
      ]
    },
    {
      "cell_type": "code",
      "source": [
        "\n",
        "rain = str(input(\"今天會下雨嗎?\"))\n",
        "if (rain==\"y\" or rain==\"Y\"):\n",
        "  print(\"出門記得帶傘!\")"
      ],
      "metadata": {
        "colab": {
          "base_uri": "https://localhost:8080/"
        },
        "id": "G0K0pM8FtdiR",
        "outputId": "cba9892e-8762-40b6-f462-ef07d14aaf70"
      },
      "execution_count": 7,
      "outputs": [
        {
          "output_type": "stream",
          "name": "stdout",
          "text": [
            "今天會下雨嗎?y\n",
            "出門記得帶傘!\n"
          ]
        }
      ]
    },
    {
      "cell_type": "code",
      "source": [
        "\n",
        "number = int(input(\"請輸入正整數:\"))\n",
        "if (number%2 == 0):\n",
        "  print(number,\"為偶數!\")\n",
        "else :\n",
        "  print(number,\"為奇數!\")\n",
        "  "
      ],
      "metadata": {
        "colab": {
          "base_uri": "https://localhost:8080/"
        },
        "id": "R7n963SPtls3",
        "outputId": "b2cadd34-1ec6-4218-9123-a84f6ae051bd"
      },
      "execution_count": 8,
      "outputs": [
        {
          "output_type": "stream",
          "name": "stdout",
          "text": [
            "請輸入正整數:14\n",
            "14 為偶數!\n"
          ]
        }
      ]
    },
    {
      "cell_type": "code",
      "source": [
        "\n",
        "number = int(input(\"請輸入正整數:\"))\n",
        "if (number%2 == 0):\n",
        "  print(number,\"為偶數!\")\n",
        "else :\n",
        "  print(number,\"為奇數!\")"
      ],
      "metadata": {
        "id": "MO--AgJttt3T",
        "outputId": "cd90fa98-aac9-45f7-db13-38dd14482fed",
        "colab": {
          "base_uri": "https://localhost:8080/"
        }
      },
      "execution_count": 9,
      "outputs": [
        {
          "output_type": "stream",
          "name": "stdout",
          "text": [
            "請輸入正整數:3\n",
            "3 為奇數!\n"
          ]
        }
      ]
    }
  ]
}