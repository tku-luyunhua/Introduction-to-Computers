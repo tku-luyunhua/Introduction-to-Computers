{
  "nbformat": 4,
  "nbformat_minor": 0,
  "metadata": {
    "colab": {
      "provenance": [],
      "authorship_tag": "ABX9TyPu2KN77X0meySre7dWvwfg",
      "include_colab_link": true
    },
    "kernelspec": {
      "name": "python3",
      "display_name": "Python 3"
    },
    "language_info": {
      "name": "python"
    }
  },
  "cells": [
    {
      "cell_type": "markdown",
      "metadata": {
        "id": "view-in-github",
        "colab_type": "text"
      },
      "source": [
        "<a href=\"https://colab.research.google.com/github/tku-luyunhua/Introduction-to-Computers/blob/main/0515.ipynb\" target=\"_parent\"><img src=\"https://colab.research.google.com/assets/colab-badge.svg\" alt=\"Open In Colab\"/></a>"
      ]
    },
    {
      "cell_type": "code",
      "execution_count": 1,
      "metadata": {
        "colab": {
          "base_uri": "https://localhost:8080/"
        },
        "id": "ri6qS3R27srr",
        "outputId": "dd9bcf97-4599-45f6-d449-b18af09fadf6"
      },
      "outputs": [
        {
          "output_type": "stream",
          "name": "stdout",
          "text": [
            "0515\n"
          ]
        }
      ],
      "source": [
        "print('0515')\n",
        "     "
      ]
    },
    {
      "cell_type": "code",
      "source": [
        "rain = str(input(\"今天會下雨嗎?\"))\n",
        "if (rain==\"y\" or rain==\"Y\"):\n",
        "  print(\"出門記得帶傘!\")  \n",
        "elif (rain==\"n\" or rain==\"N\"):\n",
        "  print(\"今天天氣很好，出門不用帶傘\") \n",
        "else:\n",
        "   print(\"輸入錯誤\")"
      ],
      "metadata": {
        "colab": {
          "base_uri": "https://localhost:8080/"
        },
        "id": "z6_d1xeV71tD",
        "outputId": "6ccab162-8fe6-4667-9864-96d05df4eca5"
      },
      "execution_count": 2,
      "outputs": [
        {
          "output_type": "stream",
          "name": "stdout",
          "text": [
            "今天會下雨嗎?n\n",
            "今天天氣很好，出門不用帶傘\n"
          ]
        }
      ]
    },
    {
      "cell_type": "code",
      "source": [
        "\n",
        "temperature = float(input(\"請輸入體溫\"))\n",
        "if (temperature>=37.5): \n",
        "  print(\"體溫過高!\")  \n",
        "elif (37.4>temperature>37): \n",
        "  print(\"體溫略高!\")\n",
        "elif (36.9>temperature>34):\n",
        "  print(\"體溫正常!\")\n",
        "else : \n",
        "  print(\"體溫異常，請重新量測!\")"
      ],
      "metadata": {
        "colab": {
          "base_uri": "https://localhost:8080/"
        },
        "id": "P4e2J-Q-760a",
        "outputId": "013fa44e-e1e6-4b66-d0f1-5de729baefbb"
      },
      "execution_count": 3,
      "outputs": [
        {
          "output_type": "stream",
          "name": "stdout",
          "text": [
            "請輸入體溫30\n",
            "體溫異常，請重新量測!\n"
          ]
        }
      ]
    },
    {
      "cell_type": "code",
      "source": [
        "\n",
        "score = int(input(\"請輸入成績\"))\n",
        "if (score>=90): \n",
        "  print(\"A\")\n",
        "elif (89>score>80): \n",
        "  print(\"B\")  \n",
        "elif (79>score>70): \n",
        "  print(\"C\")\n",
        "elif (69>score>60): \n",
        "  print(\"D\")\n",
        "else :  \n",
        "  print(\"E\")"
      ],
      "metadata": {
        "colab": {
          "base_uri": "https://localhost:8080/"
        },
        "id": "V6rugL6A7-ny",
        "outputId": "47b89ea3-cb6a-4483-f13f-38369883e141"
      },
      "execution_count": 4,
      "outputs": [
        {
          "output_type": "stream",
          "name": "stdout",
          "text": [
            "請輸入成績90\n",
            "A\n"
          ]
        }
      ]
    },
    {
      "cell_type": "code",
      "source": [
        "month = int(input(\"請輸入月份：\"))\n",
        "\n",
        "if (month in [3, 4, 5]):\n",
        "    print(f\"{month}月是春天！\")\n",
        "elif (month in [6, 7, 8]):\n",
        "    print(f\"{month}月是夏天！\")\n",
        "elif (month in [9, 10, 11]):\n",
        "    print(f\"{month}月是秋天！\")\n",
        "elif (month in [12, 1, 2]):\n",
        "    print(f\"{month}月是冬天！\")\n",
        "else:\n",
        "    print(\"月份不在範圍內。\")"
      ],
      "metadata": {
        "colab": {
          "base_uri": "https://localhost:8080/"
        },
        "id": "GXsrXed58Dla",
        "outputId": "dd17bf12-c25e-4ba4-8215-0405658452e0"
      },
      "execution_count": 5,
      "outputs": [
        {
          "output_type": "stream",
          "name": "stdout",
          "text": [
            "請輸入月份：15\n",
            "月份不在範圍內。\n"
          ]
        }
      ]
    },
    {
      "cell_type": "code",
      "source": [
        "income = int(input(\"請輸入收入金額：\"))\n",
        "\n",
        "if (income >= 2000000):\n",
        "    rate = 0.3\n",
        "elif (income >= 1000000):\n",
        "    rate = 0.21\n",
        "elif (income >= 600000):\n",
        "    rate = 0.13\n",
        "elif (income >= 300000):\n",
        "    rate = 0.06\n",
        "else :\n",
        "    rate = 0\n",
        "\n",
        "tax = income * rate\n",
        "print(f\"所得稅金額為：{tax}\")\n"
      ],
      "metadata": {
        "colab": {
          "base_uri": "https://localhost:8080/"
        },
        "id": "TfyssHQq8HC1",
        "outputId": "676c2cb1-54d6-4763-fa9c-0cbe35f08aeb"
      },
      "execution_count": 6,
      "outputs": [
        {
          "output_type": "stream",
          "name": "stdout",
          "text": [
            "請輸入收入金額：20000\n",
            "所得稅金額為：0\n"
          ]
        }
      ]
    }
  ]
}